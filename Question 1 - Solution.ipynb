{
 "cells": [
  {
   "cell_type": "markdown",
   "metadata": {},
   "source": [
    "#### Question 1"
   ]
  },
  {
   "cell_type": "markdown",
   "metadata": {},
   "source": [
    "A customer informed their consultant that they have developed <b> several formulations of petrol</b> \n",
    "that gives <b>different characteristics of burning pattern.</b> <br> The formulations are obtaining <b> by adding\n",
    "varying levels of additives</b> that, for example, prevent engine knocking, gum prevention, stability \n",
    "in storage, and etc. <br> However, a third party certification organisation would like to verify if the\n",
    "formulations are significantly different, and request for both physical and statistical proof. Since\n",
    "the formulations are confidential information, they are not named in the dataset. <br>\n",
    "Please assist the consultant in the area of statistical analysis by doing this; <br>"
   ]
  },
  {
   "cell_type": "code",
   "execution_count": 23,
   "metadata": {},
   "outputs": [],
   "source": [
    "import pandas as pd\n",
    "import matplotlib.pyplot as plt\n",
    "import seaborn as sns\n",
    "from scipy.stats import ttest_ind\n",
    "from sklearn.cluster import KMeans\n",
    "\n",
    "import warnings\n",
    "warnings.filterwarnings(\"ignore\")"
   ]
  },
  {
   "cell_type": "code",
   "execution_count": 2,
   "metadata": {},
   "outputs": [],
   "source": [
    "ingedient_file_path = './ingredient.csv'\n",
    "ingredient = pd.read_csv(ingedient_file_path)"
   ]
  },
  {
   "cell_type": "code",
   "execution_count": 16,
   "metadata": {},
   "outputs": [
    {
     "data": {
      "text/html": [
       "<div>\n",
       "<style scoped>\n",
       "    .dataframe tbody tr th:only-of-type {\n",
       "        vertical-align: middle;\n",
       "    }\n",
       "\n",
       "    .dataframe tbody tr th {\n",
       "        vertical-align: top;\n",
       "    }\n",
       "\n",
       "    .dataframe thead th {\n",
       "        text-align: right;\n",
       "    }\n",
       "</style>\n",
       "<table border=\"1\" class=\"dataframe\">\n",
       "  <thead>\n",
       "    <tr style=\"text-align: right;\">\n",
       "      <th></th>\n",
       "      <th>a</th>\n",
       "      <th>b</th>\n",
       "      <th>c</th>\n",
       "      <th>d</th>\n",
       "      <th>e</th>\n",
       "      <th>f</th>\n",
       "      <th>g</th>\n",
       "      <th>h</th>\n",
       "      <th>i</th>\n",
       "    </tr>\n",
       "  </thead>\n",
       "  <tbody>\n",
       "    <tr>\n",
       "      <th>0</th>\n",
       "      <td>1.51735</td>\n",
       "      <td>13.02</td>\n",
       "      <td>3.54</td>\n",
       "      <td>1.69</td>\n",
       "      <td>72.73</td>\n",
       "      <td>0.54</td>\n",
       "      <td>8.44</td>\n",
       "      <td>0.00</td>\n",
       "      <td>0.07</td>\n",
       "    </tr>\n",
       "    <tr>\n",
       "      <th>1</th>\n",
       "      <td>1.53125</td>\n",
       "      <td>10.73</td>\n",
       "      <td>0.00</td>\n",
       "      <td>2.10</td>\n",
       "      <td>69.81</td>\n",
       "      <td>0.58</td>\n",
       "      <td>13.30</td>\n",
       "      <td>3.15</td>\n",
       "      <td>0.28</td>\n",
       "    </tr>\n",
       "    <tr>\n",
       "      <th>2</th>\n",
       "      <td>1.52300</td>\n",
       "      <td>13.31</td>\n",
       "      <td>3.58</td>\n",
       "      <td>0.82</td>\n",
       "      <td>71.99</td>\n",
       "      <td>0.12</td>\n",
       "      <td>10.17</td>\n",
       "      <td>0.00</td>\n",
       "      <td>0.03</td>\n",
       "    </tr>\n",
       "    <tr>\n",
       "      <th>3</th>\n",
       "      <td>1.51768</td>\n",
       "      <td>12.56</td>\n",
       "      <td>3.52</td>\n",
       "      <td>1.43</td>\n",
       "      <td>73.15</td>\n",
       "      <td>0.57</td>\n",
       "      <td>8.54</td>\n",
       "      <td>0.00</td>\n",
       "      <td>0.00</td>\n",
       "    </tr>\n",
       "    <tr>\n",
       "      <th>4</th>\n",
       "      <td>1.51813</td>\n",
       "      <td>13.43</td>\n",
       "      <td>3.98</td>\n",
       "      <td>1.18</td>\n",
       "      <td>72.49</td>\n",
       "      <td>0.58</td>\n",
       "      <td>8.15</td>\n",
       "      <td>0.00</td>\n",
       "      <td>0.00</td>\n",
       "    </tr>\n",
       "  </tbody>\n",
       "</table>\n",
       "</div>"
      ],
      "text/plain": [
       "         a      b     c     d      e     f      g     h     i\n",
       "0  1.51735  13.02  3.54  1.69  72.73  0.54   8.44  0.00  0.07\n",
       "1  1.53125  10.73  0.00  2.10  69.81  0.58  13.30  3.15  0.28\n",
       "2  1.52300  13.31  3.58  0.82  71.99  0.12  10.17  0.00  0.03\n",
       "3  1.51768  12.56  3.52  1.43  73.15  0.57   8.54  0.00  0.00\n",
       "4  1.51813  13.43  3.98  1.18  72.49  0.58   8.15  0.00  0.00"
      ]
     },
     "execution_count": 16,
     "metadata": {},
     "output_type": "execute_result"
    }
   ],
   "source": [
    "ingredient.head()"
   ]
  },
  {
   "cell_type": "markdown",
   "metadata": {},
   "source": [
    ">## Table Content\n",
    "1. [Descriptive Analysis of additives](#ch1)\n",
    "2. [Graphical analysis of the additives](#ch2)\n",
    "3. [The distinctive numberof formulations present](#ch3)"
   ]
  },
  {
   "cell_type": "markdown",
   "metadata": {},
   "source": [
    "<a id = 'ch1'></a>\n",
    "### Descriptive Analysis of additives "
   ]
  },
  {
   "cell_type": "markdown",
   "metadata": {},
   "source": [
    "This is the section that we performed the data analysis on the given dataset, ingredients.<br>\n",
    "Firstly, we checked the <b> descriptive statistics</b> (min, max, mean, standard deviation) on dataset to gain the first insight."
   ]
  },
  {
   "cell_type": "code",
   "execution_count": 17,
   "metadata": {},
   "outputs": [
    {
     "data": {
      "text/html": [
       "<div>\n",
       "<style scoped>\n",
       "    .dataframe tbody tr th:only-of-type {\n",
       "        vertical-align: middle;\n",
       "    }\n",
       "\n",
       "    .dataframe tbody tr th {\n",
       "        vertical-align: top;\n",
       "    }\n",
       "\n",
       "    .dataframe thead th {\n",
       "        text-align: right;\n",
       "    }\n",
       "</style>\n",
       "<table border=\"1\" class=\"dataframe\">\n",
       "  <thead>\n",
       "    <tr style=\"text-align: right;\">\n",
       "      <th></th>\n",
       "      <th>count</th>\n",
       "      <th>mean</th>\n",
       "      <th>std</th>\n",
       "      <th>min</th>\n",
       "      <th>25%</th>\n",
       "      <th>50%</th>\n",
       "      <th>75%</th>\n",
       "      <th>max</th>\n",
       "    </tr>\n",
       "  </thead>\n",
       "  <tbody>\n",
       "    <tr>\n",
       "      <th>a</th>\n",
       "      <td>214.0</td>\n",
       "      <td>1.518365</td>\n",
       "      <td>0.003037</td>\n",
       "      <td>1.51115</td>\n",
       "      <td>1.516523</td>\n",
       "      <td>1.51768</td>\n",
       "      <td>1.519157</td>\n",
       "      <td>1.53393</td>\n",
       "    </tr>\n",
       "    <tr>\n",
       "      <th>b</th>\n",
       "      <td>214.0</td>\n",
       "      <td>13.407850</td>\n",
       "      <td>0.816604</td>\n",
       "      <td>10.73000</td>\n",
       "      <td>12.907500</td>\n",
       "      <td>13.30000</td>\n",
       "      <td>13.825000</td>\n",
       "      <td>17.38000</td>\n",
       "    </tr>\n",
       "    <tr>\n",
       "      <th>c</th>\n",
       "      <td>214.0</td>\n",
       "      <td>2.684533</td>\n",
       "      <td>1.442408</td>\n",
       "      <td>0.00000</td>\n",
       "      <td>2.115000</td>\n",
       "      <td>3.48000</td>\n",
       "      <td>3.600000</td>\n",
       "      <td>4.49000</td>\n",
       "    </tr>\n",
       "    <tr>\n",
       "      <th>d</th>\n",
       "      <td>214.0</td>\n",
       "      <td>1.444907</td>\n",
       "      <td>0.499270</td>\n",
       "      <td>0.29000</td>\n",
       "      <td>1.190000</td>\n",
       "      <td>1.36000</td>\n",
       "      <td>1.630000</td>\n",
       "      <td>3.50000</td>\n",
       "    </tr>\n",
       "    <tr>\n",
       "      <th>e</th>\n",
       "      <td>214.0</td>\n",
       "      <td>72.650935</td>\n",
       "      <td>0.774546</td>\n",
       "      <td>69.81000</td>\n",
       "      <td>72.280000</td>\n",
       "      <td>72.79000</td>\n",
       "      <td>73.087500</td>\n",
       "      <td>75.41000</td>\n",
       "    </tr>\n",
       "    <tr>\n",
       "      <th>f</th>\n",
       "      <td>214.0</td>\n",
       "      <td>0.497056</td>\n",
       "      <td>0.652192</td>\n",
       "      <td>0.00000</td>\n",
       "      <td>0.122500</td>\n",
       "      <td>0.55500</td>\n",
       "      <td>0.610000</td>\n",
       "      <td>6.21000</td>\n",
       "    </tr>\n",
       "    <tr>\n",
       "      <th>g</th>\n",
       "      <td>214.0</td>\n",
       "      <td>8.956963</td>\n",
       "      <td>1.423153</td>\n",
       "      <td>5.43000</td>\n",
       "      <td>8.240000</td>\n",
       "      <td>8.60000</td>\n",
       "      <td>9.172500</td>\n",
       "      <td>16.19000</td>\n",
       "    </tr>\n",
       "    <tr>\n",
       "      <th>h</th>\n",
       "      <td>214.0</td>\n",
       "      <td>0.175047</td>\n",
       "      <td>0.497219</td>\n",
       "      <td>0.00000</td>\n",
       "      <td>0.000000</td>\n",
       "      <td>0.00000</td>\n",
       "      <td>0.000000</td>\n",
       "      <td>3.15000</td>\n",
       "    </tr>\n",
       "    <tr>\n",
       "      <th>i</th>\n",
       "      <td>214.0</td>\n",
       "      <td>0.057009</td>\n",
       "      <td>0.097439</td>\n",
       "      <td>0.00000</td>\n",
       "      <td>0.000000</td>\n",
       "      <td>0.00000</td>\n",
       "      <td>0.100000</td>\n",
       "      <td>0.51000</td>\n",
       "    </tr>\n",
       "  </tbody>\n",
       "</table>\n",
       "</div>"
      ],
      "text/plain": [
       "   count       mean       std       min        25%       50%        75%  \\\n",
       "a  214.0   1.518365  0.003037   1.51115   1.516523   1.51768   1.519157   \n",
       "b  214.0  13.407850  0.816604  10.73000  12.907500  13.30000  13.825000   \n",
       "c  214.0   2.684533  1.442408   0.00000   2.115000   3.48000   3.600000   \n",
       "d  214.0   1.444907  0.499270   0.29000   1.190000   1.36000   1.630000   \n",
       "e  214.0  72.650935  0.774546  69.81000  72.280000  72.79000  73.087500   \n",
       "f  214.0   0.497056  0.652192   0.00000   0.122500   0.55500   0.610000   \n",
       "g  214.0   8.956963  1.423153   5.43000   8.240000   8.60000   9.172500   \n",
       "h  214.0   0.175047  0.497219   0.00000   0.000000   0.00000   0.000000   \n",
       "i  214.0   0.057009  0.097439   0.00000   0.000000   0.00000   0.100000   \n",
       "\n",
       "        max  \n",
       "a   1.53393  \n",
       "b  17.38000  \n",
       "c   4.49000  \n",
       "d   3.50000  \n",
       "e  75.41000  \n",
       "f   6.21000  \n",
       "g  16.19000  \n",
       "h   3.15000  \n",
       "i   0.51000  "
      ]
     },
     "execution_count": 17,
     "metadata": {},
     "output_type": "execute_result"
    }
   ],
   "source": [
    "ingredient.describe().T"
   ]
  },
  {
   "cell_type": "markdown",
   "metadata": {},
   "source": [
    "<b>Observation:</b>\n",
    "<br><br>\n",
    "This dataset dont have any null values. However, from the mean value we can observed that the additives are not standardized as contain different scaling. <br>\n",
    "\n",
    "<strong> 0 - 1 </strong>: f, h, i <br> \n",
    "<strong> 1 - 3 </strong>: a, c, d <br>\n",
    "<strong> 3 - 10 </strong>: g <br>\n",
    "<strong> >10 </strong> : e"
   ]
  },
  {
   "cell_type": "code",
   "execution_count": 14,
   "metadata": {},
   "outputs": [
    {
     "data": {
      "image/png": "[encoded data removed]",
      "text/plain": [
       "<Figure size 720x720 with 2 Axes>"
      ]
     },
     "metadata": {
      "needs_background": "light"
     },
     "output_type": "display_data"
    }
   ],
   "source": [
    "plt.figure(figsize = (10,10))\n",
    "sns.heatmap(ingredient.corr(), annot = True)\n",
    "plt.show()"
   ]
  },
  {
   "cell_type": "markdown",
   "metadata": {},
   "source": [
    "<b>Observation:</b>\n",
    "\n",
    "There's a strong relationship between column d & column h. The correlation is 48% among them."
   ]
  },
  {
   "cell_type": "markdown",
   "metadata": {},
   "source": [
    "##### Hypothesis Testing\n",
    "\n",
    "In order to understand deeper on dataset, We have initial the hypothesis testing to understand the relationship between 2 additives. <br> In this section, we will using 2 sample T-test to validate the hypothesis. <br> <br>\n",
    "\n",
    "Null hypothesis: There's a difference between 2 additives.<br>\n",
    "Alternative hypothesis: There's no difference between 2 additives.<br>"
   ]
  },
  {
   "cell_type": "code",
   "execution_count": 6,
   "metadata": {},
   "outputs": [],
   "source": [
    "def two_sampled_t_test(column_a, column_b):\n",
    "    group_a = ingredient[column_a]\n",
    "    group_b = ingredient[column_b]\n",
    "    \n",
    "    _, p_value = ttest_ind(a = group_a, b = group_b, equal_var = False)\n",
    "    if p_value <= 0.05:\n",
    "        print(f'p_value: {p_value} Reject the null hypothesis')\n",
    "    else:\n",
    "        print(f'p_value: {p_value} Failed to reject the null hypothesis, reject the alternative hypothesis')"
   ]
  },
  {
   "cell_type": "code",
   "execution_count": 22,
   "metadata": {},
   "outputs": [
    {
     "name": "stdout",
     "output_type": "stream",
     "text": [
      "p_value: 1.5340033352272144e-91 Reject the null hypothesis\n"
     ]
    }
   ],
   "source": [
    "two_sampled_t_test('d', 'h')"
   ]
  },
  {
   "cell_type": "code",
   "execution_count": null,
   "metadata": {},
   "outputs": [],
   "source": []
  },
  {
   "cell_type": "markdown",
   "metadata": {},
   "source": [
    "<a id = 'ch2'></a>\n",
    "\n",
    "### A graphical analysis of the additives"
   ]
  },
  {
   "cell_type": "code",
   "execution_count": 15,
   "metadata": {},
   "outputs": [
    {
     "data": {
      "image/png": "[encoded data removed]",
      "text/plain": [
       "<Figure size 1080x1080 with 9 Axes>"
      ]
     },
     "metadata": {
      "needs_background": "light"
     },
     "output_type": "display_data"
    }
   ],
   "source": [
    "f, ax = plt.subplots(3,3, figsize = (15,15))\n",
    "k = 0\n",
    "\n",
    "for i in range(0,3):\n",
    "    for j in range(0,3):\n",
    "        sns.histplot(data = ingredient.iloc[:,k], ax = ax[i,j])\n",
    "        ax[i,j].set_title(f\"The Distribution of feature {ingredient.columns[k]}\")\n",
    "        ax[i,j].set(xlabel=None)\n",
    "        k += 1\n",
    "plt.show()"
   ]
  },
  {
   "cell_type": "markdown",
   "metadata": {},
   "source": [
    "<b>Observation:</b>\n",
    "\n",
    "Most of the columns distribution are in right skewed. Which are columns f, h, i. <br>\n",
    "But columns a, b, d, e are follow the normal distribution. <br>"
   ]
  },
  {
   "cell_type": "code",
   "execution_count": null,
   "metadata": {},
   "outputs": [],
   "source": []
  },
  {
   "cell_type": "markdown",
   "metadata": {},
   "source": [
    "<a id = 'ch3'></a>\n",
    "### The distinctive number of formulations present"
   ]
  },
  {
   "cell_type": "markdown",
   "metadata": {},
   "source": [
    "In this section, we are looking for the optimal numbers of formulations among all 214 combinations. <br>\n",
    "Below tests will using Kmeans algorithm. <br>\n",
    "We are using Elbow method & identify the best optimal number by WCSS."
   ]
  },
  {
   "cell_type": "code",
   "execution_count": 26,
   "metadata": {},
   "outputs": [
    {
     "name": "stdout",
     "output_type": "stream",
     "text": [
      "Number of Clusters: 1,  WCSS: 1342.7570466443026\n",
      "Number of Clusters: 2,  WCSS: 820.0278544371245\n",
      "Number of Clusters: 3,  WCSS: 589.0314496288754\n",
      "Number of Clusters: 4,  WCSS: 491.06631931428575\n",
      "Number of Clusters: 5,  WCSS: 400.53174126774223\n",
      "Number of Clusters: 6,  WCSS: 338.7448885161779\n",
      "Number of Clusters: 7,  WCSS: 292.6147761478794\n",
      "Number of Clusters: 8,  WCSS: 266.72903408820014\n",
      "Number of Clusters: 9,  WCSS: 245.3509223188667\n",
      "Number of Clusters: 10,  WCSS: 228.4358647734796\n"
     ]
    }
   ],
   "source": [
    "wcss = []\n",
    "for i in range(1,11):\n",
    "    kmeans = KMeans(n_clusters=i, init = 'k-means++', n_init = 10, max_iter = 300)\n",
    "    kmeans.fit(ingredient)\n",
    "    wcss.append(kmeans.inertia_)\n",
    "    print('Number of Clusters: {},  WCSS: {}'.format(i,kmeans.inertia_))"
   ]
  },
  {
   "cell_type": "markdown",
   "metadata": {},
   "source": [
    "<b>Observation:</b>\n",
    "\n",
    "Based from the results, we found that the optimal number is 5."
   ]
  }
 ],
 "metadata": {
  "kernelspec": {
   "display_name": "Python 3",
   "language": "python",
   "name": "python3"
  },
  "language_info": {
   "codemirror_mode": {
    "name": "ipython",
    "version": 3
   },
   "file_extension": ".py",
   "mimetype": "text/x-python",
   "name": "python",
   "nbconvert_exporter": "python",
   "pygments_lexer": "ipython3",
   "version": "3.8.5"
  }
 },
 "nbformat": 4,
 "nbformat_minor": 4
}
