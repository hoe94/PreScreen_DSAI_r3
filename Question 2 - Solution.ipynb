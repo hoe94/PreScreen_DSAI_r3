{
 "cells": [
  {
   "cell_type": "markdown",
   "metadata": {},
   "source": [
    "### Question 2\n",
    "\n",
    "A team of plantation planners are concerned about the yield of oil palm trees, which seems to\n",
    "fluctuate. They have collected a set of data and needed help in analysing on how external\n",
    "factors influence fresh fruit bunch (FFB) yield. Some experts are of opinion that the flowering of\n",
    "oil palm tree determines the FFB yield, and are linked to the external factors. Perform the\n",
    "analysis, which requires some study on the background of oil palm tree physiology.\n"
   ]
  },
  {
   "cell_type": "code",
   "execution_count": 2,
   "metadata": {},
   "outputs": [],
   "source": [
    "import pandas as pd\n",
    "import matplotlib.pyplot as plt\n",
    "import warnings\n",
    "\n",
    "warnings.filterwarnings('ignore')"
   ]
  },
  {
   "cell_type": "code",
   "execution_count": 6,
   "metadata": {},
   "outputs": [],
   "source": [
    "df = pd.read_csv('./palm_ffb.csv')\n",
    "df['Date'] = pd.to_datetime(df['Date'])"
   ]
  },
  {
   "cell_type": "code",
   "execution_count": 4,
   "metadata": {},
   "outputs": [
    {
     "data": {
      "text/html": [
       "<div>\n",
       "<style scoped>\n",
       "    .dataframe tbody tr th:only-of-type {\n",
       "        vertical-align: middle;\n",
       "    }\n",
       "\n",
       "    .dataframe tbody tr th {\n",
       "        vertical-align: top;\n",
       "    }\n",
       "\n",
       "    .dataframe thead th {\n",
       "        text-align: right;\n",
       "    }\n",
       "</style>\n",
       "<table border=\"1\" class=\"dataframe\">\n",
       "  <thead>\n",
       "    <tr style=\"text-align: right;\">\n",
       "      <th></th>\n",
       "      <th>Date</th>\n",
       "      <th>SoilMoisture</th>\n",
       "      <th>Average_Temp</th>\n",
       "      <th>Min_Temp</th>\n",
       "      <th>Max_Temp</th>\n",
       "      <th>Precipitation</th>\n",
       "      <th>Working_days</th>\n",
       "      <th>HA_Harvested</th>\n",
       "      <th>FFB_Yield</th>\n",
       "    </tr>\n",
       "  </thead>\n",
       "  <tbody>\n",
       "    <tr>\n",
       "      <th>0</th>\n",
       "      <td>01.01.2008</td>\n",
       "      <td>616.4</td>\n",
       "      <td>25.306452</td>\n",
       "      <td>21.3</td>\n",
       "      <td>32.2</td>\n",
       "      <td>184.4</td>\n",
       "      <td>25</td>\n",
       "      <td>777778.3951</td>\n",
       "      <td>1.62</td>\n",
       "    </tr>\n",
       "    <tr>\n",
       "      <th>1</th>\n",
       "      <td>01.02.2008</td>\n",
       "      <td>568.9</td>\n",
       "      <td>26.165517</td>\n",
       "      <td>20.9</td>\n",
       "      <td>35.1</td>\n",
       "      <td>140.2</td>\n",
       "      <td>23</td>\n",
       "      <td>767988.2759</td>\n",
       "      <td>1.45</td>\n",
       "    </tr>\n",
       "    <tr>\n",
       "      <th>2</th>\n",
       "      <td>01.03.2008</td>\n",
       "      <td>577.6</td>\n",
       "      <td>25.448387</td>\n",
       "      <td>21.3</td>\n",
       "      <td>32.9</td>\n",
       "      <td>280.4</td>\n",
       "      <td>25</td>\n",
       "      <td>783951.9231</td>\n",
       "      <td>1.56</td>\n",
       "    </tr>\n",
       "    <tr>\n",
       "      <th>3</th>\n",
       "      <td>01.04.2008</td>\n",
       "      <td>581.1</td>\n",
       "      <td>26.903333</td>\n",
       "      <td>20.6</td>\n",
       "      <td>34.8</td>\n",
       "      <td>173.3</td>\n",
       "      <td>25</td>\n",
       "      <td>788987.0504</td>\n",
       "      <td>1.39</td>\n",
       "    </tr>\n",
       "    <tr>\n",
       "      <th>4</th>\n",
       "      <td>01.05.2008</td>\n",
       "      <td>545.4</td>\n",
       "      <td>27.241935</td>\n",
       "      <td>20.9</td>\n",
       "      <td>35.0</td>\n",
       "      <td>140.6</td>\n",
       "      <td>25</td>\n",
       "      <td>813659.7222</td>\n",
       "      <td>1.44</td>\n",
       "    </tr>\n",
       "  </tbody>\n",
       "</table>\n",
       "</div>"
      ],
      "text/plain": [
       "         Date  SoilMoisture  Average_Temp  Min_Temp  Max_Temp  Precipitation  \\\n",
       "0  01.01.2008         616.4     25.306452      21.3      32.2          184.4   \n",
       "1  01.02.2008         568.9     26.165517      20.9      35.1          140.2   \n",
       "2  01.03.2008         577.6     25.448387      21.3      32.9          280.4   \n",
       "3  01.04.2008         581.1     26.903333      20.6      34.8          173.3   \n",
       "4  01.05.2008         545.4     27.241935      20.9      35.0          140.6   \n",
       "\n",
       "   Working_days  HA_Harvested  FFB_Yield  \n",
       "0            25   777778.3951       1.62  \n",
       "1            23   767988.2759       1.45  \n",
       "2            25   783951.9231       1.56  \n",
       "3            25   788987.0504       1.39  \n",
       "4            25   813659.7222       1.44  "
      ]
     },
     "execution_count": 4,
     "metadata": {},
     "output_type": "execute_result"
    }
   ],
   "source": [
    "df.head()"
   ]
  },
  {
   "cell_type": "code",
   "execution_count": null,
   "metadata": {},
   "outputs": [],
   "source": []
  },
  {
   "cell_type": "code",
   "execution_count": 8,
   "metadata": {},
   "outputs": [
    {
     "data": {
      "text/html": [
       "<div>\n",
       "<style scoped>\n",
       "    .dataframe tbody tr th:only-of-type {\n",
       "        vertical-align: middle;\n",
       "    }\n",
       "\n",
       "    .dataframe tbody tr th {\n",
       "        vertical-align: top;\n",
       "    }\n",
       "\n",
       "    .dataframe thead th {\n",
       "        text-align: right;\n",
       "    }\n",
       "</style>\n",
       "<table border=\"1\" class=\"dataframe\">\n",
       "  <thead>\n",
       "    <tr style=\"text-align: right;\">\n",
       "      <th></th>\n",
       "      <th>Date</th>\n",
       "      <th>SoilMoisture</th>\n",
       "      <th>Average_Temp</th>\n",
       "      <th>Min_Temp</th>\n",
       "      <th>Max_Temp</th>\n",
       "      <th>Precipitation</th>\n",
       "      <th>Working_days</th>\n",
       "      <th>HA_Harvested</th>\n",
       "      <th>FFB_Yield</th>\n",
       "      <th>Year</th>\n",
       "    </tr>\n",
       "  </thead>\n",
       "  <tbody>\n",
       "    <tr>\n",
       "      <th>0</th>\n",
       "      <td>2008-01-01</td>\n",
       "      <td>616.4</td>\n",
       "      <td>25.306452</td>\n",
       "      <td>21.3</td>\n",
       "      <td>32.2</td>\n",
       "      <td>184.4</td>\n",
       "      <td>25</td>\n",
       "      <td>777778.3951</td>\n",
       "      <td>1.62</td>\n",
       "      <td>2008</td>\n",
       "    </tr>\n",
       "    <tr>\n",
       "      <th>1</th>\n",
       "      <td>2008-01-02</td>\n",
       "      <td>568.9</td>\n",
       "      <td>26.165517</td>\n",
       "      <td>20.9</td>\n",
       "      <td>35.1</td>\n",
       "      <td>140.2</td>\n",
       "      <td>23</td>\n",
       "      <td>767988.2759</td>\n",
       "      <td>1.45</td>\n",
       "      <td>2008</td>\n",
       "    </tr>\n",
       "    <tr>\n",
       "      <th>2</th>\n",
       "      <td>2008-01-03</td>\n",
       "      <td>577.6</td>\n",
       "      <td>25.448387</td>\n",
       "      <td>21.3</td>\n",
       "      <td>32.9</td>\n",
       "      <td>280.4</td>\n",
       "      <td>25</td>\n",
       "      <td>783951.9231</td>\n",
       "      <td>1.56</td>\n",
       "      <td>2008</td>\n",
       "    </tr>\n",
       "    <tr>\n",
       "      <th>3</th>\n",
       "      <td>2008-01-04</td>\n",
       "      <td>581.1</td>\n",
       "      <td>26.903333</td>\n",
       "      <td>20.6</td>\n",
       "      <td>34.8</td>\n",
       "      <td>173.3</td>\n",
       "      <td>25</td>\n",
       "      <td>788987.0504</td>\n",
       "      <td>1.39</td>\n",
       "      <td>2008</td>\n",
       "    </tr>\n",
       "    <tr>\n",
       "      <th>4</th>\n",
       "      <td>2008-01-05</td>\n",
       "      <td>545.4</td>\n",
       "      <td>27.241935</td>\n",
       "      <td>20.9</td>\n",
       "      <td>35.0</td>\n",
       "      <td>140.6</td>\n",
       "      <td>25</td>\n",
       "      <td>813659.7222</td>\n",
       "      <td>1.44</td>\n",
       "      <td>2008</td>\n",
       "    </tr>\n",
       "  </tbody>\n",
       "</table>\n",
       "</div>"
      ],
      "text/plain": [
       "        Date  SoilMoisture  Average_Temp  Min_Temp  Max_Temp  Precipitation  \\\n",
       "0 2008-01-01         616.4     25.306452      21.3      32.2          184.4   \n",
       "1 2008-01-02         568.9     26.165517      20.9      35.1          140.2   \n",
       "2 2008-01-03         577.6     25.448387      21.3      32.9          280.4   \n",
       "3 2008-01-04         581.1     26.903333      20.6      34.8          173.3   \n",
       "4 2008-01-05         545.4     27.241935      20.9      35.0          140.6   \n",
       "\n",
       "   Working_days  HA_Harvested  FFB_Yield  Year  \n",
       "0            25   777778.3951       1.62  2008  \n",
       "1            23   767988.2759       1.45  2008  \n",
       "2            25   783951.9231       1.56  2008  \n",
       "3            25   788987.0504       1.39  2008  \n",
       "4            25   813659.7222       1.44  2008  "
      ]
     },
     "execution_count": 8,
     "metadata": {},
     "output_type": "execute_result"
    }
   ],
   "source": [
    "#Feature Engineering, create a new feature, Year from Date feature\n",
    "df['Year'] = df['Date'].dt.year"
   ]
  },
  {
   "cell_type": "code",
   "execution_count": null,
   "metadata": {},
   "outputs": [],
   "source": []
  },
  {
   "cell_type": "code",
   "execution_count": 25,
   "metadata": {},
   "outputs": [
    {
     "data": {
      "image/png": "[encoded data removed]",
      "text/plain": [
       "<Figure size 576x576 with 1 Axes>"
      ]
     },
     "metadata": {
      "needs_background": "light"
     },
     "output_type": "display_data"
    }
   ],
   "source": [
    "plt.figure(figsize = (8,8))\n",
    "plt.ticklabel_format(useOffset=False, style='plain')\n",
    "plt.title('HA_Harvested group by Year', fontsize = 16)\n",
    "\n",
    "df.groupby('Year').HA_Harvested.sum().plot()\n",
    "plt.show()"
   ]
  },
  {
   "cell_type": "markdown",
   "metadata": {},
   "source": [
    "<strong>Observation</strong><br>\n",
    "A quick check about the number of HA_Harvested group by year.<br>\n",
    "It seems up and down from 2008 to 2012. But there's decreasing trend from 2012 to 2015. <br>\n",
    "The number of HA_Harvested is getting back to the peak of 2012 at year 2017. <br>\n",
    "Unfortunately, something bad is happen and make dramastic fall down at 2018. <br>"
   ]
  },
  {
   "cell_type": "code",
   "execution_count": null,
   "metadata": {},
   "outputs": [],
   "source": []
  },
  {
   "cell_type": "markdown",
   "metadata": {},
   "source": [
    "### Use Case 1"
   ]
  },
  {
   "cell_type": "markdown",
   "metadata": {},
   "source": [
    "* gain the deeper insight of year 2018 data"
   ]
  },
  {
   "cell_type": "code",
   "execution_count": 26,
   "metadata": {},
   "outputs": [
    {
     "data": {
      "text/html": [
       "<div>\n",
       "<style scoped>\n",
       "    .dataframe tbody tr th:only-of-type {\n",
       "        vertical-align: middle;\n",
       "    }\n",
       "\n",
       "    .dataframe tbody tr th {\n",
       "        vertical-align: top;\n",
       "    }\n",
       "\n",
       "    .dataframe thead th {\n",
       "        text-align: right;\n",
       "    }\n",
       "</style>\n",
       "<table border=\"1\" class=\"dataframe\">\n",
       "  <thead>\n",
       "    <tr style=\"text-align: right;\">\n",
       "      <th></th>\n",
       "      <th>Date</th>\n",
       "      <th>SoilMoisture</th>\n",
       "      <th>Average_Temp</th>\n",
       "      <th>Min_Temp</th>\n",
       "      <th>Max_Temp</th>\n",
       "      <th>Precipitation</th>\n",
       "      <th>Working_days</th>\n",
       "      <th>HA_Harvested</th>\n",
       "      <th>FFB_Yield</th>\n",
       "      <th>Year</th>\n",
       "    </tr>\n",
       "  </thead>\n",
       "  <tbody>\n",
       "    <tr>\n",
       "      <th>120</th>\n",
       "      <td>2018-01-01</td>\n",
       "      <td>613.9</td>\n",
       "      <td>25.716129</td>\n",
       "      <td>19.8</td>\n",
       "      <td>33.0</td>\n",
       "      <td>422.1</td>\n",
       "      <td>26</td>\n",
       "      <td>809692.0904</td>\n",
       "      <td>1.77</td>\n",
       "      <td>2018</td>\n",
       "    </tr>\n",
       "    <tr>\n",
       "      <th>121</th>\n",
       "      <td>2018-01-02</td>\n",
       "      <td>549.7</td>\n",
       "      <td>26.646429</td>\n",
       "      <td>20.5</td>\n",
       "      <td>34.2</td>\n",
       "      <td>60.2</td>\n",
       "      <td>22</td>\n",
       "      <td>791064.0288</td>\n",
       "      <td>1.39</td>\n",
       "      <td>2018</td>\n",
       "    </tr>\n",
       "    <tr>\n",
       "      <th>122</th>\n",
       "      <td>2018-01-03</td>\n",
       "      <td>479.9</td>\n",
       "      <td>27.080645</td>\n",
       "      <td>21.4</td>\n",
       "      <td>34.8</td>\n",
       "      <td>108.0</td>\n",
       "      <td>26</td>\n",
       "      <td>824104.5752</td>\n",
       "      <td>1.53</td>\n",
       "      <td>2018</td>\n",
       "    </tr>\n",
       "    <tr>\n",
       "      <th>123</th>\n",
       "      <td>2018-01-04</td>\n",
       "      <td>473.4</td>\n",
       "      <td>27.533333</td>\n",
       "      <td>21.5</td>\n",
       "      <td>34.6</td>\n",
       "      <td>176.4</td>\n",
       "      <td>25</td>\n",
       "      <td>834390.3448</td>\n",
       "      <td>1.45</td>\n",
       "      <td>2018</td>\n",
       "    </tr>\n",
       "    <tr>\n",
       "      <th>124</th>\n",
       "      <td>2018-01-05</td>\n",
       "      <td>491.7</td>\n",
       "      <td>27.561290</td>\n",
       "      <td>21.9</td>\n",
       "      <td>34.3</td>\n",
       "      <td>179.4</td>\n",
       "      <td>23</td>\n",
       "      <td>870965.4676</td>\n",
       "      <td>1.39</td>\n",
       "      <td>2018</td>\n",
       "    </tr>\n",
       "    <tr>\n",
       "      <th>125</th>\n",
       "      <td>2018-01-06</td>\n",
       "      <td>498.2</td>\n",
       "      <td>27.213333</td>\n",
       "      <td>21.6</td>\n",
       "      <td>33.6</td>\n",
       "      <td>165.6</td>\n",
       "      <td>24</td>\n",
       "      <td>820758.9147</td>\n",
       "      <td>1.29</td>\n",
       "      <td>2018</td>\n",
       "    </tr>\n",
       "    <tr>\n",
       "      <th>126</th>\n",
       "      <td>2018-01-07</td>\n",
       "      <td>494.7</td>\n",
       "      <td>27.074194</td>\n",
       "      <td>21.2</td>\n",
       "      <td>33.5</td>\n",
       "      <td>154.7</td>\n",
       "      <td>26</td>\n",
       "      <td>882254.2254</td>\n",
       "      <td>1.42</td>\n",
       "      <td>2018</td>\n",
       "    </tr>\n",
       "    <tr>\n",
       "      <th>127</th>\n",
       "      <td>2018-01-08</td>\n",
       "      <td>478.8</td>\n",
       "      <td>27.016129</td>\n",
       "      <td>20.4</td>\n",
       "      <td>33.6</td>\n",
       "      <td>127.2</td>\n",
       "      <td>25</td>\n",
       "      <td>829488.8199</td>\n",
       "      <td>1.61</td>\n",
       "      <td>2018</td>\n",
       "    </tr>\n",
       "    <tr>\n",
       "      <th>128</th>\n",
       "      <td>2018-01-09</td>\n",
       "      <td>481.1</td>\n",
       "      <td>26.946667</td>\n",
       "      <td>21.0</td>\n",
       "      <td>34.2</td>\n",
       "      <td>180.6</td>\n",
       "      <td>23</td>\n",
       "      <td>792101.0471</td>\n",
       "      <td>1.91</td>\n",
       "      <td>2018</td>\n",
       "    </tr>\n",
       "    <tr>\n",
       "      <th>129</th>\n",
       "      <td>2018-01-10</td>\n",
       "      <td>510.8</td>\n",
       "      <td>26.819355</td>\n",
       "      <td>21.0</td>\n",
       "      <td>34.4</td>\n",
       "      <td>207.0</td>\n",
       "      <td>26</td>\n",
       "      <td>771805.3922</td>\n",
       "      <td>2.04</td>\n",
       "      <td>2018</td>\n",
       "    </tr>\n",
       "  </tbody>\n",
       "</table>\n",
       "</div>"
      ],
      "text/plain": [
       "          Date  SoilMoisture  Average_Temp  Min_Temp  Max_Temp  Precipitation  \\\n",
       "120 2018-01-01         613.9     25.716129      19.8      33.0          422.1   \n",
       "121 2018-01-02         549.7     26.646429      20.5      34.2           60.2   \n",
       "122 2018-01-03         479.9     27.080645      21.4      34.8          108.0   \n",
       "123 2018-01-04         473.4     27.533333      21.5      34.6          176.4   \n",
       "124 2018-01-05         491.7     27.561290      21.9      34.3          179.4   \n",
       "125 2018-01-06         498.2     27.213333      21.6      33.6          165.6   \n",
       "126 2018-01-07         494.7     27.074194      21.2      33.5          154.7   \n",
       "127 2018-01-08         478.8     27.016129      20.4      33.6          127.2   \n",
       "128 2018-01-09         481.1     26.946667      21.0      34.2          180.6   \n",
       "129 2018-01-10         510.8     26.819355      21.0      34.4          207.0   \n",
       "\n",
       "     Working_days  HA_Harvested  FFB_Yield  Year  \n",
       "120            26   809692.0904       1.77  2018  \n",
       "121            22   791064.0288       1.39  2018  \n",
       "122            26   824104.5752       1.53  2018  \n",
       "123            25   834390.3448       1.45  2018  \n",
       "124            23   870965.4676       1.39  2018  \n",
       "125            24   820758.9147       1.29  2018  \n",
       "126            26   882254.2254       1.42  2018  \n",
       "127            25   829488.8199       1.61  2018  \n",
       "128            23   792101.0471       1.91  2018  \n",
       "129            26   771805.3922       2.04  2018  "
      ]
     },
     "execution_count": 26,
     "metadata": {},
     "output_type": "execute_result"
    }
   ],
   "source": [
    "df_2018 = df[df['Year'] == 2018]\n",
    "df_2018"
   ]
  },
  {
   "cell_type": "markdown",
   "metadata": {},
   "source": [
    "<strong>Observation</strong><br>\n",
    "Unfortunately we have the incompleted data for year 2018 as it contains only 10 months data."
   ]
  },
  {
   "cell_type": "code",
   "execution_count": null,
   "metadata": {},
   "outputs": [],
   "source": []
  },
  {
   "cell_type": "markdown",
   "metadata": {},
   "source": [
    "### Use Case 2"
   ]
  },
  {
   "cell_type": "markdown",
   "metadata": {},
   "source": [
    "* Perform the analysis for the data between 2012 and 2015"
   ]
  },
  {
   "cell_type": "markdown",
   "metadata": {},
   "source": [
    "There are few perspective we can perform analysis to find out the root cause.<br>\n",
    "1. Is the temperature increase within the years?\n",
    "2. Because of less precipitation, so the soilmoisture affect the HA_Harvested?\n"
   ]
  },
  {
   "cell_type": "code",
   "execution_count": 27,
   "metadata": {},
   "outputs": [],
   "source": [
    "df_2012_2015 = df[(df['Year'] >= 2012) & (df['Year'] <= 2015)]"
   ]
  },
  {
   "cell_type": "code",
   "execution_count": 30,
   "metadata": {},
   "outputs": [
    {
     "data": {
      "text/html": [
       "<div>\n",
       "<style scoped>\n",
       "    .dataframe tbody tr th:only-of-type {\n",
       "        vertical-align: middle;\n",
       "    }\n",
       "\n",
       "    .dataframe tbody tr th {\n",
       "        vertical-align: top;\n",
       "    }\n",
       "\n",
       "    .dataframe thead th {\n",
       "        text-align: right;\n",
       "    }\n",
       "</style>\n",
       "<table border=\"1\" class=\"dataframe\">\n",
       "  <thead>\n",
       "    <tr style=\"text-align: right;\">\n",
       "      <th></th>\n",
       "      <th>Date</th>\n",
       "      <th>SoilMoisture</th>\n",
       "      <th>Average_Temp</th>\n",
       "      <th>Min_Temp</th>\n",
       "      <th>Max_Temp</th>\n",
       "      <th>Precipitation</th>\n",
       "      <th>Working_days</th>\n",
       "      <th>HA_Harvested</th>\n",
       "      <th>FFB_Yield</th>\n",
       "      <th>Year</th>\n",
       "    </tr>\n",
       "  </thead>\n",
       "  <tbody>\n",
       "    <tr>\n",
       "      <th>48</th>\n",
       "      <td>2012-01-01</td>\n",
       "      <td>602.1</td>\n",
       "      <td>26.112903</td>\n",
       "      <td>21.1</td>\n",
       "      <td>33.5</td>\n",
       "      <td>134.9</td>\n",
       "      <td>24</td>\n",
       "      <td>776784.9206</td>\n",
       "      <td>1.26</td>\n",
       "      <td>2012</td>\n",
       "    </tr>\n",
       "    <tr>\n",
       "      <th>49</th>\n",
       "      <td>2012-01-02</td>\n",
       "      <td>547.2</td>\n",
       "      <td>26.372414</td>\n",
       "      <td>20.8</td>\n",
       "      <td>34.1</td>\n",
       "      <td>129.1</td>\n",
       "      <td>24</td>\n",
       "      <td>829962.3853</td>\n",
       "      <td>1.09</td>\n",
       "      <td>2012</td>\n",
       "    </tr>\n",
       "    <tr>\n",
       "      <th>50</th>\n",
       "      <td>2012-01-03</td>\n",
       "      <td>539.9</td>\n",
       "      <td>26.558065</td>\n",
       "      <td>21.6</td>\n",
       "      <td>33.0</td>\n",
       "      <td>208.9</td>\n",
       "      <td>27</td>\n",
       "      <td>834886.6071</td>\n",
       "      <td>1.12</td>\n",
       "      <td>2012</td>\n",
       "    </tr>\n",
       "    <tr>\n",
       "      <th>51</th>\n",
       "      <td>2012-01-04</td>\n",
       "      <td>566.8</td>\n",
       "      <td>26.890000</td>\n",
       "      <td>20.8</td>\n",
       "      <td>33.3</td>\n",
       "      <td>249.4</td>\n",
       "      <td>24</td>\n",
       "      <td>854254.5455</td>\n",
       "      <td>1.21</td>\n",
       "      <td>2012</td>\n",
       "    </tr>\n",
       "    <tr>\n",
       "      <th>52</th>\n",
       "      <td>2012-01-05</td>\n",
       "      <td>593.7</td>\n",
       "      <td>27.525806</td>\n",
       "      <td>21.8</td>\n",
       "      <td>34.6</td>\n",
       "      <td>276.7</td>\n",
       "      <td>25</td>\n",
       "      <td>862724.6269</td>\n",
       "      <td>1.34</td>\n",
       "      <td>2012</td>\n",
       "    </tr>\n",
       "  </tbody>\n",
       "</table>\n",
       "</div>"
      ],
      "text/plain": [
       "         Date  SoilMoisture  Average_Temp  Min_Temp  Max_Temp  Precipitation  \\\n",
       "48 2012-01-01         602.1     26.112903      21.1      33.5          134.9   \n",
       "49 2012-01-02         547.2     26.372414      20.8      34.1          129.1   \n",
       "50 2012-01-03         539.9     26.558065      21.6      33.0          208.9   \n",
       "51 2012-01-04         566.8     26.890000      20.8      33.3          249.4   \n",
       "52 2012-01-05         593.7     27.525806      21.8      34.6          276.7   \n",
       "\n",
       "    Working_days  HA_Harvested  FFB_Yield  Year  \n",
       "48            24   776784.9206       1.26  2012  \n",
       "49            24   829962.3853       1.09  2012  \n",
       "50            27   834886.6071       1.12  2012  \n",
       "51            24   854254.5455       1.21  2012  \n",
       "52            25   862724.6269       1.34  2012  "
      ]
     },
     "execution_count": 30,
     "metadata": {},
     "output_type": "execute_result"
    }
   ],
   "source": [
    "df_2012_2015.head()"
   ]
  },
  {
   "cell_type": "code",
   "execution_count": 34,
   "metadata": {},
   "outputs": [
    {
     "data": {
      "image/png": "[encoded data removed]",
      "text/plain": [
       "<Figure size 576x576 with 1 Axes>"
      ]
     },
     "metadata": {
      "needs_background": "light"
     },
     "output_type": "display_data"
    }
   ],
   "source": [
    "plt.figure(figsize = (8,8))\n",
    "plt.ticklabel_format(useOffset=False, style='plain')\n",
    "plt.title('Average Temperature group by Year', fontsize = 16)\n",
    "\n",
    "df_2012_2015.groupby('Year').Average_Temp.mean().plot()\n",
    "plt.show()"
   ]
  },
  {
   "cell_type": "markdown",
   "metadata": {},
   "source": [
    "<strong>Observation</strong><br>\n",
    "The temperature is getting increase from 2012 to 2015. <br>\n",
    "We can assume that the temperature is critical for the HA_Harvested & FFB_Yield. <br>\n"
   ]
  },
  {
   "cell_type": "code",
   "execution_count": null,
   "metadata": {},
   "outputs": [],
   "source": []
  },
  {
   "cell_type": "code",
   "execution_count": 46,
   "metadata": {},
   "outputs": [
    {
     "data": {
      "text/plain": [
       "<AxesSubplot:title={'center':'Average SoilMoisture group by Year'}, xlabel='Year'>"
      ]
     },
     "execution_count": 46,
     "metadata": {},
     "output_type": "execute_result"
    },
    {
     "data": {
      "image/png": "[encoded data removed]",
      "text/plain": [
       "<Figure size 576x576 with 1 Axes>"
      ]
     },
     "metadata": {
      "needs_background": "light"
     },
     "output_type": "display_data"
    }
   ],
   "source": [
    "plt.figure(figsize = (8,8))\n",
    "plt.ticklabel_format(useOffset=False, style='plain')\n",
    "plt.title('Average SoilMoisture group by Year', fontsize = 16)\n",
    "\n",
    "df_2012_2015.groupby('Year').SoilMoisture.mean().plot()"
   ]
  },
  {
   "cell_type": "code",
   "execution_count": 48,
   "metadata": {},
   "outputs": [
    {
     "data": {
      "text/plain": [
       "<AxesSubplot:title={'center':'Average Precipitation group by Year'}, xlabel='Year'>"
      ]
     },
     "execution_count": 48,
     "metadata": {},
     "output_type": "execute_result"
    },
    {
     "data": {
      "image/png": "[encoded data removed]",
      "text/plain": [
       "<Figure size 576x576 with 1 Axes>"
      ]
     },
     "metadata": {
      "needs_background": "light"
     },
     "output_type": "display_data"
    }
   ],
   "source": [
    "plt.figure(figsize = (8,8))\n",
    "plt.ticklabel_format(useOffset=False, style='plain')\n",
    "plt.title('Average Precipitation group by Year', fontsize = 16)\n",
    "\n",
    "df_2012_2015.groupby('Year').Precipitation.mean().plot()"
   ]
  },
  {
   "cell_type": "markdown",
   "metadata": {},
   "source": [
    "<strong>Observation</strong><br>\n",
    "It's very obvious that precipitation & SoilMoisture are affect by temperature. <br>\n",
    "The higher temperature, the lesser precipitation. <br>\n",
    "And it causes the HA_Harvested are getting less."
   ]
  }
 ],
 "metadata": {
  "kernelspec": {
   "display_name": "Python 3",
   "language": "python",
   "name": "python3"
  },
  "language_info": {
   "codemirror_mode": {
    "name": "ipython",
    "version": 3
   },
   "file_extension": ".py",
   "mimetype": "text/x-python",
   "name": "python",
   "nbconvert_exporter": "python",
   "pygments_lexer": "ipython3",
   "version": "3.8.5"
  }
 },
 "nbformat": 4,
 "nbformat_minor": 4
}
